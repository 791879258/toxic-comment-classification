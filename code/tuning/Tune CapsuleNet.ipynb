{
 "cells": [
  {
   "cell_type": "code",
   "execution_count": null,
   "metadata": {},
   "outputs": [],
   "source": [
    "import os\n",
    "os.environ['CUDA_DEVICE_ORDER']='PCI_BUS_ID'\n",
    "os.environ['CUDA_VISIBLE_DEVICES']='1'\n",
    "import numpy as np\n",
    "import keras.backend as K\n",
    "from keras.models import Model\n",
    "from keras.layers import Input, Dense, Flatten, Embedding, Dropout, PReLU\n",
    "from keras.layers import Bidirectional, SpatialDropout1D, CuDNNGRU\n",
    "from keras.regularizers import l2\n",
    "from toxic.keras_utils import Capsule\n",
    "from toxic.NN import NN"
   ]
  },
  {
   "cell_type": "code",
   "execution_count": null,
   "metadata": {},
   "outputs": [],
   "source": [
    "class CapsuleNet(NN):\n",
    "    \"\"\"Input-> Embedding-> GRU-> Capsule-> Output\"\"\"\n",
    "\n",
    "    def __init__(self, model_name, embedding_file, max_seq_len=250):\n",
    "\n",
    "        super().__init__(model_name, max_seq_len, file_dir='../../input',\n",
    "                         word_embedding_file=embedding_file)\n",
    "        self.load_labels()\n",
    "        self.load_word_sequences()\n",
    "        self.load_word_vectors()\n",
    "\n",
    "    def get_model(self, n_capsule = 10, n_routings = 5, capsule_dim = 16,\n",
    "         n_recurrent=100, dropout_rate=0.2, l2_penalty=0.0001):\n",
    "        K.clear_session()\n",
    "\n",
    "        inputs = Input(shape=(self.max_seq_len,))\n",
    "        x = Embedding(self.word_embedding_matrix.shape[0], 300, \n",
    "                      weights=[self.word_embedding_matrix], trainable=False)(inputs)        \n",
    "        x = SpatialDropout1D(dropout_rate)(x)\n",
    "        x = Bidirectional(\n",
    "            CuDNNGRU(n_recurrent, return_sequences=True,\n",
    "                     kernel_regularizer=l2(l2_penalty),\n",
    "                     recurrent_regularizer=l2(l2_penalty)))(x)\n",
    "        x = PReLU()(x)\n",
    "        x = Capsule(\n",
    "            num_capsule=n_capsule, dim_capsule=capsule_dim,\n",
    "            routings=n_routings, share_weights=True)(x)\n",
    "        x = Flatten()(x)\n",
    "        x = Dropout(dropout_rate)(x)\n",
    "        outputs = Dense(6, activation='sigmoid')(x)\n",
    "        model = Model(inputs=inputs, outputs=outputs)\n",
    "        model.compile(loss='binary_crossentropy', optimizer='nadam')\n",
    "        return model"
   ]
  },
  {
   "cell_type": "code",
   "execution_count": null,
   "metadata": {},
   "outputs": [],
   "source": [
    "param_lims = {\n",
    "    'n_capsule':    (6, 14),   \n",
    "    'capsule_dim':  (16, 20),\n",
    "    'n_routings':   (3, 7), \n",
    "    'n_recurrent':  (100, 160),\n",
    "    'dropout_rate': (0, 0.25),  \n",
    "    'l2_penalty':   (-5, -2), \n",
    "}   \n",
    "\n",
    "for emb in ['toxic', 'fasttext', 'glove', 'lexvec']:\n",
    "    nn = CapsuleNet(\n",
    "        model_name = f'CapsuleNet_{emb}',\n",
    "        embedding_file = f'embeddings/{emb}_embeddings.txt')\n",
    "    for i in np.random.randint(10000, size=10):\n",
    "        nn.predict_kfold(param_lims, n_folds=5, seed=0, monitor_training=False)"
   ]
  }
 ],
 "metadata": {
  "kernelspec": {
   "display_name": "Python 3",
   "language": "python",
   "name": "python3"
  },
  "language_info": {
   "codemirror_mode": {
    "name": "ipython",
    "version": 3
   },
   "file_extension": ".py",
   "mimetype": "text/x-python",
   "name": "python",
   "nbconvert_exporter": "python",
   "pygments_lexer": "ipython3",
   "version": "3.6.4"
  }
 },
 "nbformat": 4,
 "nbformat_minor": 1
}
