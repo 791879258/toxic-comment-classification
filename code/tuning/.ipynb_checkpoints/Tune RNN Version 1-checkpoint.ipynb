{
 "cells": [
  {
   "cell_type": "code",
   "execution_count": null,
   "metadata": {},
   "outputs": [],
   "source": [
    "import os\n",
    "os.environ['CUDA_DEVICE_ORDER']='PCI_BUS_ID'\n",
    "os.environ['CUDA_VISIBLE_DEVICES']='0'\n",
    "import numpy as np\n",
    "import keras.backend as K\n",
    "from keras.models import Model\n",
    "from keras.layers import Input, Dense, Flatten, Embedding, Dropout, PReLU\n",
    "from keras.layers import Bidirectional, SpatialDropout1D, CuDNNGRU, Conv1D\n",
    "from keras.layers import GlobalAvgPool1D, GlobalMaxPool1D, concatenate\n",
    "from keras.regularizers import l2\n",
    "from toxic.keras_utils import AttentionWithContext\n",
    "from toxic.NN import NN"
   ]
  },
  {
   "cell_type": "code",
   "execution_count": null,
   "metadata": {},
   "outputs": [],
   "source": [
    "class RnnVersion1(NN):\n",
    "    \"\"\"Input-> Embedding-> 2x(GRU-> Conv-> PReLU-> Attention)-> Output\"\"\"\n",
    "\n",
    "    def __init__(self, model_name, embedding_file, max_seq_len=250):\n",
    "\n",
    "        super().__init__(model_name, max_seq_len, file_dir='../../input',\n",
    "                         word_embedding_file=embedding_file)\n",
    "        self.load_labels()\n",
    "        self.load_word_sequences()\n",
    "        self.load_word_vectors()\n",
    "\n",
    "    def get_model(self, n_recurrent=50, n_filters=50, dropout_rate=0.2, l2_penalty=0.0001):\n",
    "        K.clear_session()\n",
    "\n",
    "        def att_max_avg_pooling(x):\n",
    "            x_att = AttentionWithContext()(x)\n",
    "            x_avg = GlobalAvgPool1D()(x)\n",
    "            x_max = GlobalMaxPool1D()(x)\n",
    "            return concatenate([x_att, x_avg, x_max])\n",
    "        \n",
    "        inputs = Input(shape=(self.max_seq_len,))\n",
    "        emb = Embedding(self.word_embedding_matrix.shape[0], 300, \n",
    "                        weights=[self.word_embedding_matrix], trainable=False)(inputs)\n",
    "        \n",
    "        # model 0\n",
    "        x0 = SpatialDropout1D(dropout_rate)(emb)\n",
    "        x0 = Bidirectional(\n",
    "            CuDNNGRU(n_recurrent, return_sequences=True,\n",
    "                     kernel_regularizer=l2(l2_penalty),\n",
    "                     recurrent_regularizer=l2(l2_penalty)))(x0)\n",
    "        x0 = Conv1D(n_filters, kernel_size=3)(x0)\n",
    "        x0 = PReLU()(x0)\n",
    "        x0 = att_max_avg_pooling(x0)\n",
    "\n",
    "        # model 1\n",
    "        x1 = SpatialDropout1D(dropout_rate)(emb)\n",
    "        x1 = Bidirectional(\n",
    "            CuDNNGRU(2*n_recurrent, return_sequences=True,\n",
    "                     kernel_regularizer=l2(l2_penalty),\n",
    "                     recurrent_regularizer=l2(l2_penalty)))(x1)\n",
    "        x1 = Conv1D(2*n_filters, kernel_size=2)(x1)\n",
    "        x1 = PReLU()(x1)\n",
    "        x1 = att_max_avg_pooling(x1)\n",
    "\n",
    "        # combine\n",
    "        x = concatenate([x0, x1])\n",
    "        outputs = Dense(6, activation='sigmoid')(x)\n",
    "        model = Model(inputs=inputs, outputs=outputs)\n",
    "        model.compile(loss='binary_crossentropy', optimizer='nadam')\n",
    "        return model"
   ]
  },
  {
   "cell_type": "code",
   "execution_count": null,
   "metadata": {},
   "outputs": [],
   "source": [
    "param_lims = { \n",
    "    'n_filters':    (25, 100),\n",
    "    'n_recurrent':  (25, 100),\n",
    "    'dropout_rate': (0, 0.25),\n",
    "    'l2_penalty':   (-5, -2), \n",
    "}   \n",
    "\n",
    "for emb in ['toxic', 'fasttext', 'glove', 'lexvec']:\n",
    "    nn = RnnVersion1(\n",
    "        model_name = f'RnnVersion1_{emb}',\n",
    "        embedding_file = f'embeddings/{emb}_embeddings.txt')\n",
    "    for i in np.random.randint(10000, size=10):\n",
    "        nn.predict_kfold(param_lims, n_folds=5, seed=0, monitor_training=False)"
   ]
  }
 ],
 "metadata": {
  "kernelspec": {
   "display_name": "Python 3",
   "language": "python",
   "name": "python3"
  },
  "language_info": {
   "codemirror_mode": {
    "name": "ipython",
    "version": 3
   },
   "file_extension": ".py",
   "mimetype": "text/x-python",
   "name": "python",
   "nbconvert_exporter": "python",
   "pygments_lexer": "ipython3",
   "version": "3.6.4"
  }
 },
 "nbformat": 4,
 "nbformat_minor": 1
}
