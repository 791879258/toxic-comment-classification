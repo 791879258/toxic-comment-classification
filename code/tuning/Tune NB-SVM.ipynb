{
 "cells": [
  {
   "cell_type": "code",
   "execution_count": null,
   "metadata": {},
   "outputs": [],
   "source": [
    "import re\n",
    "import regex\n",
    "import multiprocessing\n",
    "import numpy as np\n",
    "import pandas as pd\n",
    "from scipy import sparse\n",
    "from functools import partial\n",
    "from sklearn.model_selection import RepeatedKFold\n",
    "from sklearn.feature_extraction.text import CountVectorizer, TfidfVectorizer\n",
    "from sklearn.linear_model import LogisticRegression\n",
    "from sklearn.metrics import roc_auc_score\n",
    "from bayes_opt import BayesianOptimization\n",
    "from sklearn.linear_model import LogisticRegression()"
   ]
  },
  {
   "cell_type": "code",
   "execution_count": null,
   "metadata": {},
   "outputs": [],
   "source": [
    "# load data\n",
    "FILE_DIR = '../../input'\n",
    "\n",
    "# create label matrix\n",
    "train = pd.read_csv(f'{FILE_DIR}/train.csv')\n",
    "class_list = ['toxic', 'severe_toxic', 'obscene', 'threat', 'insult', 'identity_hate']\n",
    "Y = train[class_list].values\n",
    "\n",
    "# load features \n",
    "X = sparse.hstack([\n",
    "    sparse.load_npz(f'{FILE_DIR}/tfidf/train_char_tfidf.npz'),\n",
    "    sparse.load_npz(f'{FILE_DIR}/tfidf/train_word_tfidf.npz'),\n",
    "    sparse.load_npz(f'{FILE_DIR}/tfidf/train_pos_tfidf.npz'),\n",
    "]).tocsr()\n",
    "\n",
    "X_test = sparse.hstack([\n",
    "    sparse.load_npz(f'{FILE_DIR}/tfidf/test_char_tfidf.npz'),\n",
    "    sparse.load_npz(f'{FILE_DIR}/tfidf/test_word_tfidf.npz'),\n",
    "    sparse.load_npz(f'{FILE_DIR}/tfidf/test_pos_tfidf.npz'),\n",
    "]).tocsr()"
   ]
  },
  {
   "cell_type": "code",
   "execution_count": null,
   "metadata": {},
   "outputs": [],
   "source": [
    "def nbsvm_eval(indexs, j, alpha, beta):\n",
    "  \n",
    "  # unpack data\n",
    "  train_index, valid_index = indexs\n",
    "  X_train, y_train = X[train_index], Y[train_index,j]\n",
    "  X_valid, y_valid = X[valid_index], Y[valid_index,j]\n",
    "\n",
    "  # create features\n",
    "  p = 10**alpha + X_train[y_train==1].sum(0)\n",
    "  q = 10**alpha + X_train[y_train==0].sum(0)\n",
    "  w = np.log((p/np.sum(p))/(q/np.sum(q)))  \n",
    "  train_features = X_train.multiply(w)\n",
    "  valid_features = X_valid.multiply(w)\n",
    "\n",
    "  # fit model on training data\n",
    "  f = LogisticRegression(dual=True, C=10**beta)\n",
    "  f.fit(train_features, y_train)\n",
    "\n",
    "  # make predictions on validation data\n",
    "  yhat = f.predict_proba(valid_features)[:,1]\n",
    "  return roc_auc_score(y_valid, yhat)\n",
    "\n",
    "def nbsvm_cv(j, alpha=0.0, beta=0.0):\n",
    "    \n",
    "  # create folds\n",
    "  fold_iterator = RepeatedKFold(n_splits=5, n_repeats=2)\n",
    "  index_list = [(tr,va) for tr,va in fold_iterator.split(X)]\n",
    "  \n",
    "  # process folds in parallel\n",
    "  pool = multiprocessing.Pool(10)\n",
    "  f_eval = partial(nbsvm_eval, j=j, alpha=alpha, beta=beta)\n",
    "  scores = pool.map(f_eval, index_list)\n",
    "  pool.terminate()\n",
    "   \n",
    "  return np.mean(scores)"
   ]
  },
  {
   "cell_type": "code",
   "execution_count": null,
   "metadata": {},
   "outputs": [],
   "source": [
    "results = []\n",
    "param_lims = {'alpha': (-2, 0), 'beta': (-2,0)}\n",
    "\n",
    "for j, class_name in enumerate(class_list):\n",
    "  \n",
    "  print(f'Target: {class_name}')\n",
    "  nbsvm_opt = partial(nbsvm_cv, j)\n",
    "  BO = BayesianOptimization(nbsvm_opt, param_lims)\n",
    "  BO.maximize(init_points=5, n_iter=5)\n",
    "  \n",
    "  results.append({\n",
    "    'val_auc': BO.res['max']['max_val'],\n",
    "    'alpha':   BO.res['max']['max_params']['alpha'], \n",
    "    'beta':    BO.res['max']['max_params']['beta'],\n",
    "  })"
   ]
  },
  {
   "cell_type": "code",
   "execution_count": null,
   "metadata": {},
   "outputs": [],
   "source": [
    "pd.DataFrame(results)"
   ]
  }
 ],
 "metadata": {
  "kernelspec": {
   "display_name": "Python 3",
   "language": "python",
   "name": "python3"
  },
  "language_info": {
   "codemirror_mode": {
    "name": "ipython",
    "version": 3
   },
   "file_extension": ".py",
   "mimetype": "text/x-python",
   "name": "python",
   "nbconvert_exporter": "python",
   "pygments_lexer": "ipython3",
   "version": "3.6.4"
  },
  "widgets": {
   "state": {},
   "version": "1.1.2"
  }
 },
 "nbformat": 4,
 "nbformat_minor": 1
}
