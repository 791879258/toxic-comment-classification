{
 "cells": [
  {
   "cell_type": "code",
   "execution_count": null,
   "metadata": {},
   "outputs": [],
   "source": [
    "import os\n",
    "os.environ['CUDA_DEVICE_ORDER']='PCI_BUS_ID'\n",
    "os.environ['CUDA_VISIBLE_DEVICES']='1'\n",
    "import numpy as np\n",
    "import keras.backend as K\n",
    "from keras.models import Model\n",
    "from keras.layers import Dense, Input, Embedding, PReLU, SpatialDropout1D, Conv1D\n",
    "from keras.layers import MaxPool1D, AvgPool1D, GlobalMaxPool1D, GlobalAvgPool1D, concatenate\n",
    "from keras.regularizers import l2\n",
    "from toxic.keras_utils import AttentionWithContext\n",
    "from toxic.NN import NN"
   ]
  },
  {
   "cell_type": "code",
   "execution_count": null,
   "metadata": {},
   "outputs": [],
   "source": [
    "class Cnn2Layer(NN):\n",
    "    \"\"\"Input-> Embedding-> GRU-> Capsule-> Output\"\"\"\n",
    "\n",
    "    def __init__(self, model_name, embedding_file, max_seq_len=250):\n",
    "\n",
    "        super().__init__(model_name, max_seq_len, file_dir='../../input',\n",
    "                         word_embedding_file=embedding_file)\n",
    "        self.load_labels()\n",
    "        self.load_word_sequences()\n",
    "        self.load_word_vectors()\n",
    "\n",
    "    def get_model(self, n_recurrent=50, n_filters=50, dropout_rate=0.2):\n",
    "        K.clear_session()\n",
    "        \n",
    "        def conv_block(x, n, kernel_size):\n",
    "            x = Conv1D(n, kernel_size, activation='relu') (x)\n",
    "            x = Conv1D(n_filters, kernel_size, activation='relu') (x)\n",
    "            x_att = AttentionWithContext()(x)\n",
    "            x_avg = GlobalAvgPool1D()(x)\n",
    "            x_max = GlobalMaxPool1D()(x)\n",
    "            return concatenate([x_att, x_avg, x_max])    \n",
    "\n",
    "        inputs = Input(shape=(self.max_seq_len,))\n",
    "        x = Embedding(self.word_embedding_matrix.shape[0], 300, \n",
    "                      weights=[self.word_embedding_matrix], trainable=False)(inputs)        \n",
    "        x = SpatialDropout1D(dropout_rate)(x)\n",
    "        x1 = conv_block(x, 4*n_filters, 2)\n",
    "        x2 = conv_block(x, 3*n_filters, 3)\n",
    "        x3 = conv_block(x, 2*n_filters, 4)\n",
    "        x = concatenate([x1, x2, x3])\n",
    "        outputs = Dense(6, activation='sigmoid')(x)\n",
    "        model = Model(inputs=inputs, outputs=outputs)\n",
    "        model.compile(loss='binary_crossentropy', optimizer='nadam')\n",
    "        return model"
   ]
  },
  {
   "cell_type": "code",
   "execution_count": null,
   "metadata": {
    "scrolled": true
   },
   "outputs": [],
   "source": [
    "param_lims = { \n",
    "    'n_filters':  (64, 125),\n",
    "    'dropout_rate': (0, 0.1),\n",
    "}   \n",
    "\n",
    "for emb in ['toxic', 'fasttext', 'glove', 'lexvec']:\n",
    "    nn = Cnn2Layer(\n",
    "        model_name = f'Cnn2Layer_{emb}',\n",
    "        embedding_file = f'embeddings/{emb}_embeddings.txt')\n",
    "    for i in np.random.randint(10000, size=10):\n",
    "        nn.predict_kfold(param_lims, n_folds=5, seed=0, monitor_training=False)"
   ]
  }
 ],
 "metadata": {
  "kernelspec": {
   "display_name": "Python 3",
   "language": "python",
   "name": "python3"
  },
  "language_info": {
   "codemirror_mode": {
    "name": "ipython",
    "version": 3
   },
   "file_extension": ".py",
   "mimetype": "text/x-python",
   "name": "python",
   "nbconvert_exporter": "python",
   "pygments_lexer": "ipython3",
   "version": "3.6.4"
  }
 },
 "nbformat": 4,
 "nbformat_minor": 1
}
