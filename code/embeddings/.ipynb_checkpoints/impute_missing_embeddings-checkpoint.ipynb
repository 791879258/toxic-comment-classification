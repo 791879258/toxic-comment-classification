{
 "cells": [
  {
   "cell_type": "code",
   "execution_count": 1,
   "metadata": {
    "scrolled": true
   },
   "outputs": [],
   "source": [
    "import re\n",
    "import torch\n",
    "import numpy as np\n",
    "import pandas as pd\n",
    "from sklearn.preprocessing import normalize  \n",
    "from toxic import embedding_utils"
   ]
  },
  {
   "cell_type": "code",
   "execution_count": 2,
   "metadata": {},
   "outputs": [],
   "source": [
    "DATA_DIR = '../../input'\n",
    "EMBEDDING_PATH = f'{DATA_DIR}/embeddings'\n",
    "\n",
    "local_list = [\n",
    "  f'{EMBEDDING_PATH}/glove/toxic_glove_100d.txt',\n",
    "  f'{EMBEDDING_PATH}/fasttext/toxic_fasttext_100d.txt',\n",
    "]\n",
    "\n",
    "external_list = [\n",
    "  f'{EMBEDDING_PATH}/fasttext/common_crawl_and_en_wiki_fasttext_300d.txt', \n",
    "  f'{EMBEDDING_PATH}/glove/840B_glove_300d.txt',\n",
    "  f'{EMBEDDING_PATH}/lexvec/common_crawl_lexvec_300d.txt',\n",
    "]"
   ]
  },
  {
   "cell_type": "code",
   "execution_count": 26,
   "metadata": {},
   "outputs": [],
   "source": [
    "def get_save_name(local, external):\n",
    "  def get_base_name(file_name):\n",
    "    base = file_name.split('/')\n",
    "    base = base[len(base)-1]\n",
    "    base = re.sub('.txt', '', base)\n",
    "    return base\n",
    "\n",
    "  return f'{EMBEDDING_PATH}/imputed/'\\\n",
    "    f'{get_base_name(local)}_impute_'\\\n",
    "    f'{get_base_name(external)}.txt'  "
   ]
  },
  {
   "cell_type": "code",
   "execution_count": 29,
   "metadata": {
    "scrolled": false
   },
   "outputs": [],
   "source": [
    "for local_file in local_list:\n",
    "  \n",
    "  # load local vectors\n",
    "  local_vectors = embedding_utils.read_embedding(local_file)\n",
    "    \n",
    "  for external_file in external_list[::-1]:    \n",
    "\n",
    "    # load external vectors\n",
    "    external_vectors = embedding_utils.read_embedding(external_file)\n",
    "    \n",
    "    # impute missing vectors\n",
    "    imputed_vectors = embedding_utils.impute_missing(\n",
    "      local_vectors, external_vectors, use_gpu=True)\n",
    "    \n",
    "    # save imputed\n",
    "    save_name = get_save_name(local_file, external_file)\n",
    "    embedding_utils.write_embedding(imputed_vectors, save_name)"
   ]
  }
 ],
 "metadata": {
  "kernelspec": {
   "display_name": "Python 3",
   "language": "python",
   "name": "python3"
  },
  "language_info": {
   "codemirror_mode": {
    "name": "ipython",
    "version": 3
   },
   "file_extension": ".py",
   "mimetype": "text/x-python",
   "name": "python",
   "nbconvert_exporter": "python",
   "pygments_lexer": "ipython3",
   "version": "3.6.4"
  }
 },
 "nbformat": 4,
 "nbformat_minor": 2
}
